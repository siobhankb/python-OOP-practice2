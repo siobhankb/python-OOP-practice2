{
 "cells": [
  {
   "cell_type": "markdown",
   "metadata": {},
   "source": [
    "#### Exercise 1 - Class Inheritance"
   ]
  },
  {
   "cell_type": "markdown",
   "metadata": {},
   "source": [
    "Create an Employee class that sets an employee's first name, last name, job title, salary, and email. The Employee class should have a class attribute for the raise amount set to 5% (1.05). Create a method that will apply the raise to an employee's salary."
   ]
  },
  {
   "cell_type": "code",
   "execution_count": 1,
   "metadata": {},
   "outputs": [],
   "source": [
    "class Employee:\n",
    "    raise_amount = 1.05\n",
    "    \n",
    "    def __init__(self, first_name, last_name, job_title, salary):\n",
    "        self.first_name = first_name.title()\n",
    "        self.last_name = last_name.title()\n",
    "        self.full_name = first_name + ' ' + last_name\n",
    "        self.job_title = job_title.title()\n",
    "        self.salary = int(salary)\n",
    "        self.email = first_name[0].lower() + last_name.lower() + '@company.com'\n",
    "        \n",
    "    def salary_raise(self):\n",
    "        self.salary *= 1.05"
   ]
  },
  {
   "cell_type": "code",
   "execution_count": 2,
   "metadata": {},
   "outputs": [],
   "source": [
    "Boss = Employee('Johann', 'Romo', 'Yo-Yo Boss', 1000000)\n",
    "Asst = Employee('Salvador', 'Ochoa', 'Gaming Champ', 1000000)"
   ]
  },
  {
   "cell_type": "code",
   "execution_count": 3,
   "metadata": {},
   "outputs": [
    {
     "name": "stdout",
     "output_type": "stream",
     "text": [
      "Johann's email is jromo@company.com\n",
      "Salvador's email is sochoa@company.com\n",
      "Johann makes $1000000\n",
      "Salvador makes $1000000\n",
      "After a raise, Johann makes $1050000\n",
      "After a raise, Salvador makes $1050000\n"
     ]
    }
   ],
   "source": [
    "print(f\"{Boss.first_name}'s email is {Boss.email}\")\n",
    "print(f\"{Asst.first_name}'s email is {Asst.email}\")\n",
    "\n",
    "print(f\"{Boss.first_name} makes ${Boss.salary}\")\n",
    "print(f\"{Asst.first_name} makes ${Asst.salary}\")\n",
    "\n",
    "Boss.salary_raise()\n",
    "Asst.salary_raise()\n",
    "\n",
    "print(f\"After a raise, {Boss.first_name} makes ${int(Boss.salary)}\")\n",
    "print(f\"After a raise, {Asst.first_name} makes ${int(Asst.salary)}\")"
   ]
  },
  {
   "cell_type": "markdown",
   "metadata": {},
   "source": [
    "Create two more classes that inherit from the Employee class. One for Sales and one for Development. Both of these classes will have the same attributes as the Employee.<br>\n",
    "- For the Sales employees, add a phone number attribute on instantiation using the super method. \n",
    "- Create a method on the Sales class that will Send a Follow Up Email. It should take in a customer name and \"send\" aka print a formatted email \"Dear *customer*, Thank you for your interest in our product. Please let me know if you have any questions. My email is *email* or my phone number is *phone number*. Thanks, *full name*\"\n",
    "- Create a method on the Development class called code that will print out \"*full name* is writing code\"."
   ]
  },
  {
   "cell_type": "code",
   "execution_count": 4,
   "metadata": {},
   "outputs": [],
   "source": [
    "class Sales(Employee):\n",
    "    # parent    (self, first_name, last_name, job_title, salary)\n",
    "    def __init__(self, first_name, last_name, job_title, salary, phone):\n",
    "        super().__init__(first_name, last_name, job_title, salary)\n",
    "        self.phone = phone\n",
    "        \n",
    "    def follow_up_email(self, customer_first, customer_last, customer_prefix = None):\n",
    "        if customer_prefix:\n",
    "            if customer_prefix.lower() == 'mr' or customer_prefix.lower() == 'mrs' or customer_prefix.lower() == 'ms' or customer_prefix.lower() == 'mx':\n",
    "                addressee = customer_prefix.title() + '. ' + customer_last.title()\n",
    "            else:\n",
    "                addressee = customer_prefix.title() + ' ' + customer_last.title()\n",
    "        else:\n",
    "            addressee = customer_first.title()\n",
    "        print(\n",
    "         f\"\\n\\t       Dear {addressee},\\n \\n \\\n",
    "              Thank you for your interest in our product. Please let me know if you have any questions.\\n \\\n",
    "              My email is {self.email} and my phone number is {self.phone}.\\n \\\n",
    "              \\n \\\n",
    "              Thanks,\\n \\\n",
    "              {self.full_name}\")"
   ]
  },
  {
   "cell_type": "code",
   "execution_count": 5,
   "metadata": {},
   "outputs": [],
   "source": [
    "class Development(Employee):\n",
    "    # parent    (self, first_name, last_name, job_title, salary)\n",
    "    def __init__(self, first_name, last_name, job_title, salary):\n",
    "        super().__init__(first_name, last_name, job_title, salary)\n",
    "        \n",
    "    def code(self):\n",
    "        print(f\"{self.full_name} is writing code... supposedly...\\nIn any case, don't expect to hear from them any time soon!\")"
   ]
  },
  {
   "cell_type": "markdown",
   "metadata": {},
   "source": [
    "- Create an instance of a Sales Employee with a salary of $50,000.\n",
    "- Send follow up emails to \"Mike O'Neil\" and \"Hannah Stern\"\n",
    "- Give the employee a raise and print the salary"
   ]
  },
  {
   "cell_type": "code",
   "execution_count": 6,
   "metadata": {},
   "outputs": [
    {
     "name": "stdout",
     "output_type": "stream",
     "text": [
      "\n",
      "\t       Dear Captain O'Neil,\n",
      " \n",
      "               Thank you for your interest in our product. Please let me know if you have any questions.\n",
      "               My email is jramirez@company.com and my phone number is (212)111-2222.\n",
      "               \n",
      "               Thanks,\n",
      "               Julissa Ramirez\n",
      "\n",
      "\t       Dear Mx. Stern,\n",
      " \n",
      "               Thank you for your interest in our product. Please let me know if you have any questions.\n",
      "               My email is jramirez@company.com and my phone number is (212)111-2222.\n",
      "               \n",
      "               Thanks,\n",
      "               Julissa Ramirez\n"
     ]
    }
   ],
   "source": [
    "Underpaid_laborer1 = Sales('Julissa', 'Ramirez', 'CEO', 50000, '(212)111-2222')\n",
    "\n",
    "Underpaid_laborer1.follow_up_email('mike', \"o'neil\", 'captain')\n",
    "Underpaid_laborer1.follow_up_email('hannah', 'stern', 'mx')"
   ]
  },
  {
   "cell_type": "markdown",
   "metadata": {},
   "source": [
    "- Create an instance of a Development Employee with a salary of $100,000\n",
    "- Write some code with this employee\n",
    "- Give the employee a raise and print the salary"
   ]
  },
  {
   "cell_type": "code",
   "execution_count": 7,
   "metadata": {},
   "outputs": [],
   "source": [
    "overpaid_coder1 = Development('Crystal', 'Mendoza', 'SE', 100000)"
   ]
  },
  {
   "cell_type": "code",
   "execution_count": 8,
   "metadata": {},
   "outputs": [
    {
     "name": "stdout",
     "output_type": "stream",
     "text": [
      "Crystal Mendoza is writing code... supposedly...\n",
      "In any case, don't expect to hear from them any time soon!\n"
     ]
    }
   ],
   "source": [
    "overpaid_coder1.code()"
   ]
  },
  {
   "cell_type": "code",
   "execution_count": 9,
   "metadata": {},
   "outputs": [
    {
     "name": "stdout",
     "output_type": "stream",
     "text": [
      "Crystal Mendoza used to make $100000 per year.\n",
      "After a raise, Crystal makes $105000.\n"
     ]
    }
   ],
   "source": [
    "print(f\"{overpaid_coder1.full_name} used to make ${overpaid_coder1.salary} per year.\")\n",
    "overpaid_coder1.salary_raise()\n",
    "print(f\"After a raise, {overpaid_coder1.first_name} makes ${int(overpaid_coder1.salary)}.\")"
   ]
  },
  {
   "cell_type": "markdown",
   "metadata": {},
   "source": [
    "#### Exercise 2 - Importing Modules"
   ]
  },
  {
   "cell_type": "markdown",
   "metadata": {},
   "source": [
    "In VS Code, create a module titled `geometry` and add two functions in there. One that will calculate the area of a circle given a radius. The second will find the hypotenuse of a right angle given the two sides. Import the module or the functions from the module and use it to find the answers to the below questions"
   ]
  },
  {
   "cell_type": "code",
   "execution_count": 10,
   "metadata": {},
   "outputs": [],
   "source": [
    "import geometry"
   ]
  },
  {
   "cell_type": "markdown",
   "metadata": {},
   "source": [
    "What is the area of a circle with a radius of 7cm?"
   ]
  },
  {
   "cell_type": "code",
   "execution_count": 11,
   "metadata": {},
   "outputs": [
    {
     "name": "stdout",
     "output_type": "stream",
     "text": [
      "153.93804002589985\n"
     ]
    }
   ],
   "source": [
    "circle1_radius = 7\n",
    "circle1_area = geometry.circle_area(circle1_radius)\n",
    "print(circle1_area)"
   ]
  },
  {
   "cell_type": "markdown",
   "metadata": {},
   "source": [
    "What is the hypotenuse of a right angle with sides of 3in and 4in?"
   ]
  },
  {
   "cell_type": "code",
   "execution_count": 12,
   "metadata": {},
   "outputs": [],
   "source": [
    "triangle1_side_a = 3\n",
    "triangle1_side_b = 4"
   ]
  },
  {
   "cell_type": "code",
   "execution_count": 13,
   "metadata": {},
   "outputs": [
    {
     "name": "stdout",
     "output_type": "stream",
     "text": [
      "5.0\n"
     ]
    }
   ],
   "source": [
    "hypot_triangle1 = geometry.hypotenuse(triangle1_side_a, triangle1_side_b)\n",
    "print(hypot_triangle1)"
   ]
  }
 ],
 "metadata": {
  "kernelspec": {
   "display_name": "Python 3 (ipykernel)",
   "language": "python",
   "name": "python3"
  },
  "language_info": {
   "codemirror_mode": {
    "name": "ipython",
    "version": 3
   },
   "file_extension": ".py",
   "mimetype": "text/x-python",
   "name": "python",
   "nbconvert_exporter": "python",
   "pygments_lexer": "ipython3",
   "version": "3.9.7"
  }
 },
 "nbformat": 4,
 "nbformat_minor": 4
}
