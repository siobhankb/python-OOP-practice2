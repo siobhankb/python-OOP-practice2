{
 "cells": [
  {
   "cell_type": "markdown",
   "metadata": {},
   "source": [
    "# Object-Oriented-Programming (OOP)"
   ]
  },
  {
   "cell_type": "markdown",
   "metadata": {},
   "source": [
    "## Tasks Today:\n",
    "\n",
    "   \n",
    "1) <b>Dunder Methods</b> <br>\n",
    " &nbsp;&nbsp;&nbsp;&nbsp; a) The \\__str\\__() Methodo <br>\n",
    " &nbsp;&nbsp;&nbsp;&nbsp; b) The \\__repr\\__() Method <br>\n",
    " &nbsp;&nbsp;&nbsp;&nbsp; c) In-Class Exercise #1 - Create a class Animal that displays the species and animal name when printed <br>  \n",
    "2) <b>Inheritance</b> <br>\n",
    " &nbsp;&nbsp;&nbsp;&nbsp; a) Syntax for Inheriting from a Parent Class <br>\n",
    " &nbsp;&nbsp;&nbsp;&nbsp; b) The \\__init\\__() Method for a Child Class (super()) <br>\n",
    " &nbsp;&nbsp;&nbsp;&nbsp; c) Defining Attributes and Methods for the Child Class <br>\n",
    " &nbsp;&nbsp;&nbsp;&nbsp; d) Method Overriding <br>\n",
    " &nbsp;&nbsp;&nbsp;&nbsp; e) In-Class Exercise #2 - Create a class 'Ford' that inherits from 'Car' class and initialize it as a Blue Ford Explorer with 4 wheels using the super() method <br>\n",
    "3) <b>Modules</b> <br>\n",
    " &nbsp;&nbsp;&nbsp;&nbsp; a) Importing Modules<br>\n",
    " &nbsp;&nbsp;&nbsp;&nbsp; b) Importing from modules <br>\n",
    " &nbsp;&nbsp;&nbsp;&nbsp; c) Aliasing <br>\n",
    " &nbsp;&nbsp;&nbsp;&nbsp; d) Creating Modules <br>\n",
    " &nbsp;&nbsp;&nbsp;&nbsp; e) In-Class Exercise #2 - Create a class 'Ford' <br>\n",
    "4) <b>Exercises</b> <br>\n",
    " &nbsp;&nbsp;&nbsp;&nbsp; a) Exercise #1 - Turn the shopping cart program from yesterday into an object-oriented program <br>"
   ]
  },
  {
   "cell_type": "markdown",
   "metadata": {},
   "source": [
    "### Warm Up"
   ]
  },
  {
   "cell_type": "markdown",
   "metadata": {},
   "source": [
    "Create two classes: one for a user that includes username, email, and password. Another for posts that has a title, body, and author. The author should be an instance of user."
   ]
  },
  {
   "cell_type": "code",
   "execution_count": 2,
   "metadata": {},
   "outputs": [],
   "source": [
    "# I want a doc that shows the syntax using the vocabulary like this:\n",
    "\n",
    "# class Class:\n",
    "#     def __init__(self, variable, default = 0):\n",
    "#         self.variable = variable\n",
    "#         self.default = default"
   ]
  },
  {
   "cell_type": "code",
   "execution_count": 3,
   "metadata": {},
   "outputs": [],
   "source": [
    "class User:\n",
    "    def __init__(self, username, email, password = 'pass123'):\n",
    "        self.username = username\n",
    "        self.email = email\n",
    "        self.password = password\n",
    "        \n",
    "Siobhan = User('sioboylan', 'siobhan.boylan@email.com')\n",
    "Rosie = User('rosiedog', 'rosie.dog@email.com')"
   ]
  },
  {
   "cell_type": "code",
   "execution_count": 4,
   "metadata": {},
   "outputs": [
    {
     "name": "stdout",
     "output_type": "stream",
     "text": [
      "{'username': 'sioboylan', 'email': 'siobhan.boylan@email.com', 'password': 'pass123'}\n",
      "{'username': 'rosiedog', 'email': 'rosie.dog@email.com', 'password': 'pass123'}\n"
     ]
    }
   ],
   "source": [
    "print(Siobhan.__dict__)\n",
    "print(Rosie.__dict__)"
   ]
  },
  {
   "cell_type": "code",
   "execution_count": 5,
   "metadata": {},
   "outputs": [],
   "source": [
    "class Post:\n",
    "    def __init__(self, title, body, author):\n",
    "        self.title = title\n",
    "        self.body = body\n",
    "        self.author = author\n",
    "\n",
    "post1 = Post(\n",
    "    'It is Tuesday.Com', \n",
    "    'When the internet was young and web addresses were easy to come by, \"isittuesday.com\" was born.', Siobhan)\n",
    "\n",
    "post2 = Post('oops, I need help with OOP!',\n",
    "            'Object-oriented programming seemed so much easier in 2002 when I was coding GIS...', Rosie)"
   ]
  },
  {
   "cell_type": "code",
   "execution_count": 6,
   "metadata": {},
   "outputs": [
    {
     "name": "stdout",
     "output_type": "stream",
     "text": [
      "{'title': 'It is Tuesday.Com', 'body': 'When the internet was young and web addresses were easy to come by, \"isittuesday.com\" was born.', 'author': <__main__.User object at 0x7faf382d0760>}\n",
      "{'title': 'oops, I need help with OOP!', 'body': 'Object-oriented programming seemed so much easier in 2002 when I was coding GIS...', 'author': <__main__.User object at 0x7faf381b70a0>}\n"
     ]
    }
   ],
   "source": [
    "print(post1.__dict__)\n",
    "print(post2.__dict__)"
   ]
  },
  {
   "cell_type": "code",
   "execution_count": 7,
   "metadata": {},
   "outputs": [],
   "source": [
    "# class User:\n",
    "#     first_name = ''\n",
    "#     def __init__(self, first_name, last_name):\n",
    "#         self.first_name = first_name\n",
    "#         self.last_name = last_name\n",
    "    \n",
    "#     def username(self):\n",
    "#         return self.first_name + '.' + self.last_name\n",
    "    \n",
    "#     def email(self):\n",
    "#         return self.first_name + '.' + self.last_name + \"@email.com\"\n",
    "    \n",
    "#     def password(self):\n",
    "#         return self.first_name[0] + self.last_name[0:3]\n",
    "    \n",
    "\n",
    "# Siobhan = User('Siobhan', 'Boylan')\n",
    "# Rosie = User('Rosie', 'Dog')"
   ]
  },
  {
   "cell_type": "markdown",
   "metadata": {},
   "source": [
    "## Dunder Methods\n",
    "\n",
    "What is a Dunder Method? <br>\n",
    "<p>called 'dunder' because they are surrounded by double underlines (e.g. '__abs__')<br>\n",
    "Predefined, or \"magic\" methods built into every class, even user-defined classes<br>\n",
    "Never defined or called when you __init__ a class, but they're built in...</p>"
   ]
  },
  {
   "cell_type": "markdown",
   "metadata": {},
   "source": [
    "#### \\__str\\__()"
   ]
  },
  {
   "cell_type": "code",
   "execution_count": 8,
   "metadata": {},
   "outputs": [
    {
     "name": "stdout",
     "output_type": "stream",
     "text": [
      "<__main__.Car object at 0x7faf383f4520>\n",
      "<__main__.Car object at 0x7faf383f46d0>\n"
     ]
    }
   ],
   "source": [
    "# the method that is called/executed when print() is called on your object:\n",
    "\n",
    "class Car:\n",
    "    def __init__(self, color, make, model):\n",
    "        self.color = color\n",
    "        self.make = make\n",
    "        self.model = model\n",
    "    \n",
    "car1 = Car('red', 'Toyota', 'Camry')\n",
    "car2 = Car('green', 'Ford', 'Focus')\n",
    "\n",
    "print(car1)\n",
    "print(car2)"
   ]
  },
  {
   "cell_type": "code",
   "execution_count": 9,
   "metadata": {},
   "outputs": [
    {
     "name": "stdout",
     "output_type": "stream",
     "text": [
      "Hello this is the __str__ method being executed\n",
      "A STRING\n",
      "Hello this is the __str__ method being executed\n",
      "A STRING\n"
     ]
    }
   ],
   "source": [
    "class Car:\n",
    "    def __init__(self, color, make, model):\n",
    "        self.color = color\n",
    "        self.make = make\n",
    "        self.model = model\n",
    "\n",
    "# can set __str__ to output any wackadoodle message...\n",
    "    def __str__(self):\n",
    "        print('Hello this is the __str__ method being executed')\n",
    "        # must \"return\" something, otherwise it will throw an error\n",
    "        return 'A STRING'\n",
    "    \n",
    "car1 = Car('red', 'Toyota', 'Camry')\n",
    "car2 = Car('green', 'Ford', 'Focus')\n",
    "\n",
    "print(car1)\n",
    "print(car2)"
   ]
  },
  {
   "cell_type": "code",
   "execution_count": 10,
   "metadata": {},
   "outputs": [
    {
     "name": "stdout",
     "output_type": "stream",
     "text": [
      "red Toyota Camry\n",
      "green Ford Focus\n"
     ]
    }
   ],
   "source": [
    "# format returned string to use variables/attributes of class\n",
    "\n",
    "class Car:\n",
    "    def __init__(self, color, make, model):\n",
    "        self.color = color\n",
    "        self.make = make\n",
    "        self.model = model\n",
    "\n",
    "# format returned string to use variables/attributes of class        \n",
    "    def __str__(self):\n",
    "        return f'{self.color} {self.make.title()} {self.model.title()}'\n",
    "    \n",
    "car1 = Car('red', 'toyota', 'camry')\n",
    "car2 = Car('green', 'ford', 'focus')\n",
    "\n",
    "print(car1)\n",
    "print(car2)"
   ]
  },
  {
   "cell_type": "markdown",
   "metadata": {},
   "source": [
    "#### \\__repr\\__()"
   ]
  },
  {
   "cell_type": "code",
   "execution_count": 11,
   "metadata": {
    "scrolled": true
   },
   "outputs": [
    {
     "data": {
      "text/plain": [
       "<__main__.Car at 0x7faf383f9160>"
      ]
     },
     "execution_count": 11,
     "metadata": {},
     "output_type": "execute_result"
    }
   ],
   "source": [
    "# this will only print the \"behind the scenes\" info that can be helpful in debugging\n",
    "car1"
   ]
  },
  {
   "cell_type": "code",
   "execution_count": 12,
   "metadata": {},
   "outputs": [
    {
     "name": "stdout",
     "output_type": "stream",
     "text": [
      "<Car | id=1 toyota camry>\n",
      "<Car | id=2 ford focus>\n"
     ]
    }
   ],
   "source": [
    "# but if we 'call' the __repr__ method when defining the class, we can set the information we want to receive\n",
    "# which could help us find an issue later...\n",
    "\n",
    "class Car:\n",
    "    car_id_sequence = 1 # set class-level variable to help identify an object later on\n",
    "    \n",
    "    def __init__(self, color, make, model):\n",
    "        self.color = color\n",
    "        self.make = make\n",
    "        self.model = model\n",
    "        self.car_id_sequence = Car.car_id_sequence # set the instance attribute value\n",
    "        Car.car_id_sequence += 1 # acts like a counter\n",
    "        # **** this is uncommon - normally, this information would be pulled from a database, \n",
    "        # **** which would have more meaningful tracking information\n",
    "\n",
    "# format what info is returned when you ask for the returned value of an object with this class        \n",
    "    def __repr__(self):\n",
    "        return f'<Car | id={self.car_id_sequence} {self.make} {self.model}>'\n",
    "    \n",
    "car1 = Car('red', 'toyota', 'camry')\n",
    "car2 = Car('green', 'ford', 'focus')\n",
    "\n",
    "print(car1)\n",
    "print(car2)"
   ]
  },
  {
   "cell_type": "code",
   "execution_count": null,
   "metadata": {},
   "outputs": [],
   "source": []
  },
  {
   "cell_type": "markdown",
   "metadata": {},
   "source": [
    "#### \\__lt\\__(), \\__lte\\__(), \\__eq\\__(), etc"
   ]
  },
  {
   "cell_type": "code",
   "execution_count": 13,
   "metadata": {},
   "outputs": [],
   "source": [
    "class Item:\n",
    "    def __init__(self, name, price, quantity = 1):\n",
    "        self.name = name\n",
    "        self.price = price\n",
    "        self.quantity = quantity\n",
    "        \n",
    "    def __str__(self):\n",
    "        return f\"{self.name}: {self.quantity} x ${self.price:.2f}\"\n",
    "    \n",
    "    def __repr__(self):\n",
    "        return f\"<Item | {self.name}>\"\n",
    "\n",
    "item1 = Item('Pen', 1.49, 3)\n",
    "item2 = Item('cup', 2.99)"
   ]
  },
  {
   "cell_type": "code",
   "execution_count": 14,
   "metadata": {},
   "outputs": [
    {
     "name": "stdout",
     "output_type": "stream",
     "text": [
      "Pen: 3 x $1.49\n"
     ]
    },
    {
     "ename": "TypeError",
     "evalue": "'<' not supported between instances of 'Item' and 'Item'",
     "output_type": "error",
     "traceback": [
      "\u001b[0;31m---------------------------------------------------------------------------\u001b[0m",
      "\u001b[0;31mTypeError\u001b[0m                                 Traceback (most recent call last)",
      "Input \u001b[0;32mIn [14]\u001b[0m, in \u001b[0;36m<cell line: 2>\u001b[0;34m()\u001b[0m\n\u001b[1;32m      1\u001b[0m \u001b[38;5;28mprint\u001b[39m(item1)\n\u001b[0;32m----> 2\u001b[0m \u001b[38;5;28mprint\u001b[39m(\u001b[43mitem1\u001b[49m\u001b[43m \u001b[49m\u001b[38;5;241;43m<\u001b[39;49m\u001b[43m \u001b[49m\u001b[43mitem2\u001b[49m)\n",
      "\u001b[0;31mTypeError\u001b[0m: '<' not supported between instances of 'Item' and 'Item'"
     ]
    }
   ],
   "source": [
    "print(item1)\n",
    "print(item1 < item2)"
   ]
  },
  {
   "cell_type": "code",
   "execution_count": 15,
   "metadata": {},
   "outputs": [
    {
     "name": "stdout",
     "output_type": "stream",
     "text": [
      "True\n"
     ]
    }
   ],
   "source": [
    "# to be able to compare variables of objects with a certain class, \n",
    "# set up comparison dunder methods\n",
    "\n",
    "class Item:\n",
    "    def __init__(self, name, price, quantity = 1):\n",
    "        self.name = name\n",
    "        self.price = price\n",
    "        self.quantity = quantity\n",
    "        \n",
    "    def __str__(self):\n",
    "        return f\"{self.name}: {self.quantity} x ${self.price:.2f}\"\n",
    "    \n",
    "    def __repr__(self):\n",
    "        return f\"<Item | {self.name}>\"\n",
    "    \n",
    "    def __lt__(self, other_item):\n",
    "        # since this is a built-in,\n",
    "        # Python interprets variable before '<' as 'self'\n",
    "        #               and variable after '<' as second argument\n",
    "        return self.price < other_item.price\n",
    "\n",
    "        \n",
    "item1 = Item('Pen', 1.49, 3)\n",
    "item2 = Item('cup', 2.99)\n",
    "\n",
    "print(item1 < item2)"
   ]
  },
  {
   "cell_type": "code",
   "execution_count": 16,
   "metadata": {},
   "outputs": [],
   "source": [
    "# to be able to compare variables of objects with a certain class, \n",
    "# set up comparison dunder methods\n",
    "\n",
    "class Item:\n",
    "    def __init__(self, name, price, quantity = 1):\n",
    "        self.name = name\n",
    "        self.price = price\n",
    "        self.quantity = quantity\n",
    "        \n",
    "    def __str__(self):\n",
    "        return f\"{self.name}: {self.quantity} x ${self.price:.2f}\"\n",
    "    \n",
    "    def __repr__(self):\n",
    "        return f\"<Item | {self.name}>\"\n",
    "    \n",
    "    def __lt__(self, other_item):\n",
    "        # since this is a built-in,\n",
    "        # Python interprets variable before '<' as 'self'\n",
    "        #               and variable after '<' as second argument\n",
    "        # can simply return comparison\n",
    "        # return self.price < other_item.price\n",
    "        # or you can set up fancier comparisons like\n",
    "        self_total = self.price * self.quantity\n",
    "        other_total = other_item.price * other_item.quantity\n",
    "        return self_total < other_total\n",
    "    \n",
    "    def __le__(self, other_item):\n",
    "        return self.price <= other_item.price\n",
    "    \n",
    "    def __gt__(self, other_item):\n",
    "        return self.price > other_item.price\n",
    "    \n",
    "    def __ge__(self, other_item):\n",
    "        return self.price >= other_item.price\n",
    "    \n",
    "    def __eq__(self, other_item):\n",
    "        return self.price == other_item.price\n",
    "    \n",
    "    def __add__(self, value_to_add):\n",
    "        self.quantity += value_to_add\n",
    "        return self\n",
    "    \n",
    "    def __sub__(self, value_to_asub):\n",
    "        self.quantity -= value_to_asub\n",
    "        return self\n",
    "\n",
    "item1 = Item('Pen', 1.49, 3)\n",
    "item2 = Item('cup', 2.99)"
   ]
  },
  {
   "cell_type": "code",
   "execution_count": 17,
   "metadata": {},
   "outputs": [
    {
     "name": "stdout",
     "output_type": "stream",
     "text": [
      "False\n",
      "True\n",
      "False\n",
      "False\n",
      "False\n"
     ]
    }
   ],
   "source": [
    "print(item1 < item2)\n",
    "print(item1 <= item2)\n",
    "print(item1 > item2)\n",
    "print(item1 >= item2)\n",
    "print(item1 == item2)"
   ]
  },
  {
   "cell_type": "code",
   "execution_count": 18,
   "metadata": {},
   "outputs": [
    {
     "name": "stdout",
     "output_type": "stream",
     "text": [
      "Pen: 3 x $1.49\n",
      "Pen: 7 x $1.49\n"
     ]
    }
   ],
   "source": [
    "print(item1)\n",
    "item1 += 4\n",
    "print(item1)"
   ]
  },
  {
   "cell_type": "code",
   "execution_count": 19,
   "metadata": {},
   "outputs": [
    {
     "name": "stdout",
     "output_type": "stream",
     "text": [
      "Pen: 7 x $1.49\n",
      "Pen: 5 x $1.49\n"
     ]
    }
   ],
   "source": [
    "print(item1)\n",
    "item1 -= 2\n",
    "print(item1)"
   ]
  },
  {
   "cell_type": "code",
   "execution_count": 20,
   "metadata": {},
   "outputs": [
    {
     "name": "stdout",
     "output_type": "stream",
     "text": [
      "[<Item | Pen>, <Item | cup>]\n",
      "6\n"
     ]
    }
   ],
   "source": [
    "class Cart:\n",
    "    def __init__(self):\n",
    "        self.cart = []\n",
    "        \n",
    "    def add_to_cart(self, item):\n",
    "        self.cart.append(item)\n",
    "        \n",
    "    def __len__(self):\n",
    "        total_items = 0\n",
    "        for item in self.cart:\n",
    "            total_items += item.quantity\n",
    "        return total_items\n",
    "\n",
    "my_cart = Cart()\n",
    "\n",
    "my_cart.add_to_cart(item1)\n",
    "my_cart.add_to_cart(item2)\n",
    "print(my_cart.cart)\n",
    "print(len(my_cart))"
   ]
  },
  {
   "cell_type": "code",
   "execution_count": 24,
   "metadata": {},
   "outputs": [
    {
     "name": "stdout",
     "output_type": "stream",
     "text": [
      "[<Item | Pen>, <Item | cup>]\n",
      "6\n",
      "True\n",
      "True\n",
      "False\n"
     ]
    }
   ],
   "source": [
    "class Cart:\n",
    "    def __init__(self):\n",
    "        self.cart = []\n",
    "        \n",
    "    def add_to_cart(self, item):\n",
    "        self.cart.append(item)\n",
    "        \n",
    "    def __len__(self):\n",
    "        total_items = 0\n",
    "        for item in self.cart:\n",
    "            total_items += item.quantity\n",
    "        return total_items\n",
    "\n",
    "    def __contains__(self, item_name):\n",
    "        for item in self.cart:\n",
    "            if item.name.lower() == item_name.lower():\n",
    "                return True\n",
    "        return False\n",
    "    \n",
    "my_cart = Cart()\n",
    "\n",
    "my_cart.add_to_cart(item1)\n",
    "my_cart.add_to_cart(item2)\n",
    "print(my_cart.cart)\n",
    "print(len(my_cart))\n",
    "\n",
    "print('pen' in my_cart)\n",
    "print('pEN' in my_cart)\n",
    "print('Marker' in my_cart)"
   ]
  },
  {
   "cell_type": "markdown",
   "metadata": {},
   "source": [
    "#### In-class Exercise 1"
   ]
  },
  {
   "cell_type": "code",
   "execution_count": 27,
   "metadata": {},
   "outputs": [
    {
     "name": "stdout",
     "output_type": "stream",
     "text": [
      "Buddy is a dog.\n"
     ]
    }
   ],
   "source": [
    "# Create a class Animal that displays the name and species when printed\n",
    "\n",
    "class Animal:\n",
    "    def __init__(self, name, species):\n",
    "        self.name = name\n",
    "        self.species = species\n",
    "        \n",
    "    def __str__(self):\n",
    "        return f'{self.name.title()} is a {self.species}.'\n",
    "\n",
    "buddy = Animal('Buddy', 'dog')\n",
    "print(buddy)"
   ]
  },
  {
   "cell_type": "markdown",
   "metadata": {},
   "source": [
    "## Inheritance <br>\n",
    "<p>You can create a child-parent relationship between two classes by using inheritance. What this allows you to do is have overriding methods, but also inherit traits from the parent class. Think of it as an actual parent and child, the child will inherit the parent's genes, as will the classes in OOP</p>"
   ]
  },
  {
   "cell_type": "markdown",
   "metadata": {},
   "source": [
    "##### Syntax for Inheriting from a Parent Class"
   ]
  },
  {
   "cell_type": "code",
   "execution_count": 35,
   "metadata": {},
   "outputs": [],
   "source": [
    "# Syntax: class Child(Parent):\n",
    "\n",
    "class Square:\n",
    "    def __init__(self, length, width):\n",
    "        self.length = length\n",
    "        self.width = width\n",
    "        \n"
   ]
  },
  {
   "cell_type": "code",
   "execution_count": 36,
   "metadata": {},
   "outputs": [
    {
     "name": "stdout",
     "output_type": "stream",
     "text": [
      "Help on class Square in module __main__:\n",
      "\n",
      "class Square(builtins.object)\n",
      " |  Square(length, width)\n",
      " |  \n",
      " |  Methods defined here:\n",
      " |  \n",
      " |  __init__(self, length, width)\n",
      " |      Initialize self.  See help(type(self)) for accurate signature.\n",
      " |  \n",
      " |  ----------------------------------------------------------------------\n",
      " |  Data descriptors defined here:\n",
      " |  \n",
      " |  __dict__\n",
      " |      dictionary for instance variables (if defined)\n",
      " |  \n",
      " |  __weakref__\n",
      " |      list of weak references to the object (if defined)\n",
      "\n"
     ]
    }
   ],
   "source": [
    "help(Square)"
   ]
  },
  {
   "cell_type": "code",
   "execution_count": 39,
   "metadata": {},
   "outputs": [
    {
     "name": "stdout",
     "output_type": "stream",
     "text": [
      "This is the Rectangle Class -- Length: 8 x Width 4\n",
      "32\n",
      "This is the Rectangle Class -- Length: 5 x Width 5\n",
      "25\n"
     ]
    }
   ],
   "source": [
    "# Syntax: class Child(Parent):\n",
    "\n",
    "class Rectangle: # PARENT class\n",
    "    def __init__(self, length, width):\n",
    "        self.length = length\n",
    "        self.width = width\n",
    "        \n",
    "    def __str__(self):\n",
    "        return f\"Length: {self.length} x Width {self.width}\"\n",
    "    \n",
    "    def area(self):\n",
    "        print(\"This is the Rectangle Class --\", self)\n",
    "        return self.length * self.width\n",
    "\n",
    "class Square(Rectangle): # CHILD class\n",
    "    pass\n",
    "\n",
    "# 'Square' has no actual functionality other than its relationship to Rectangle\n",
    "# This means that every method defined and available for Rectangle is also available to Square\n",
    "\n",
    "my_rectangle = Rectangle(8, 4)\n",
    "print(my_rectangle.area())\n",
    "\n",
    "my_square = Square(5, 5)\n",
    "print(my_square.area())"
   ]
  },
  {
   "cell_type": "code",
   "execution_count": 40,
   "metadata": {},
   "outputs": [
    {
     "name": "stdout",
     "output_type": "stream",
     "text": [
      "Help on class Square in module __main__:\n",
      "\n",
      "class Square(Rectangle)\n",
      " |  Square(length, width)\n",
      " |  \n",
      " |  Method resolution order:\n",
      " |      Square\n",
      " |      Rectangle\n",
      " |      builtins.object\n",
      " |  \n",
      " |  Methods inherited from Rectangle:\n",
      " |  \n",
      " |  __init__(self, length, width)\n",
      " |      Initialize self.  See help(type(self)) for accurate signature.\n",
      " |  \n",
      " |  __str__(self)\n",
      " |      Return str(self).\n",
      " |  \n",
      " |  area(self)\n",
      " |  \n",
      " |  ----------------------------------------------------------------------\n",
      " |  Data descriptors inherited from Rectangle:\n",
      " |  \n",
      " |  __dict__\n",
      " |      dictionary for instance variables (if defined)\n",
      " |  \n",
      " |  __weakref__\n",
      " |      list of weak references to the object (if defined)\n",
      "\n"
     ]
    }
   ],
   "source": [
    "help(Square)"
   ]
  },
  {
   "cell_type": "markdown",
   "metadata": {},
   "source": [
    "##### The \\__init\\__() Method for a Child Class - super()"
   ]
  },
  {
   "cell_type": "code",
   "execution_count": 45,
   "metadata": {
    "scrolled": true
   },
   "outputs": [
    {
     "name": "stdout",
     "output_type": "stream",
     "text": [
      "Instantiating a 'Rectangle' class...\n",
      "This is the Rectangle Class -- Length: 8 x Width 4\n",
      "32\n"
     ]
    }
   ],
   "source": [
    "\n",
    "class Rectangle: # PARENT class\n",
    "    def __init__(self, length, width):\n",
    "        print(\"Instantiating a 'Rectangle' class...\")\n",
    "        self.length = length\n",
    "        self.width = width\n",
    "        \n",
    "    def __str__(self):\n",
    "        return f\"Length: {self.length} x Width {self.width}\"\n",
    "    \n",
    "    def area(self):\n",
    "        print(\"This is the Rectangle Class --\", self)\n",
    "        return self.length * self.width\n",
    "\n",
    "class Square(Rectangle): # CHILD class\n",
    "    def __init__(self, side):\n",
    "        #instead of repeating things that are already available thanks to linking Square to (Rectangle) parent,\n",
    "        print(\"Instantiating a 'Square' class...\")\n",
    "        super().__init__(side,side)\n",
    "        self.hypotenuse = side * (2 **(1/2))\n",
    "\n",
    "my_rectangle = Rectangle(8, 4)\n",
    "print(my_rectangle.area())\n"
   ]
  },
  {
   "cell_type": "code",
   "execution_count": 48,
   "metadata": {},
   "outputs": [
    {
     "name": "stdout",
     "output_type": "stream",
     "text": [
      "Instantiating a 'Square' class...\n",
      "Instantiating a 'Rectangle' class...\n",
      "This is the Rectangle Class -- Length: 5 x Width 5\n",
      "25\n",
      "7.0710678118654755\n"
     ]
    }
   ],
   "source": [
    "my_square = Square(5)\n",
    "print(my_square.area())\n",
    "print(my_square.hypotenuse)"
   ]
  },
  {
   "cell_type": "code",
   "execution_count": null,
   "metadata": {
    "scrolled": true
   },
   "outputs": [],
   "source": []
  },
  {
   "cell_type": "code",
   "execution_count": null,
   "metadata": {},
   "outputs": [],
   "source": []
  },
  {
   "cell_type": "markdown",
   "metadata": {},
   "source": [
    "#### In-class Exercise 2"
   ]
  },
  {
   "cell_type": "markdown",
   "metadata": {},
   "source": [
    "Create a Car class that has a drive and fill up method, and then create a Ford class that inherits from the car class."
   ]
  },
  {
   "cell_type": "code",
   "execution_count": 4,
   "metadata": {},
   "outputs": [
    {
     "name": "stdout",
     "output_type": "stream",
     "text": [
      "Ford\n",
      "My car is a/n Ford\n",
      "After driving 10 miles, this car has gas level 98.0.\n",
      "After adding 5 gallons of fuel, this car has gas level 148.0.\n"
     ]
    }
   ],
   "source": [
    "class Car:\n",
    "    def __init__(self, color, model, make, gas_level = 100):\n",
    "        self.color = color\n",
    "        self.model = model\n",
    "        self.make = make\n",
    "        self.gas_level = gas_level\n",
    "        \n",
    "    def __str__(self):\n",
    "        return f\"{self.title()} is a {color} {make} {model}.\"\n",
    "    \n",
    "    def drive(self, miles_driven):\n",
    "        self.gas_level -= miles_driven * 0.2\n",
    "        print(f\"After driving {miles_driven} miles, this car has gas level {self.gas_level}.\")\n",
    "    \n",
    "    def fill_up(self, gallons):\n",
    "        self.gas_level += gallons * 10\n",
    "        print(f\"After adding {gallons} gallons of fuel, this car has gas level {self.gas_level}.\")\n",
    "        \n",
    "class Ford(Car):\n",
    "    def __init__(self, color, model, make = 'Ford'):\n",
    "        #  PARENT (self, color, make, model, gas_level = 100)\n",
    "        super().__init__(color, model, make)\n",
    "        # order of arguments should match parent's\n",
    "        \n",
    "# create an instance of the Ford class\n",
    "my_car = Ford('blue', 'Focus')\n",
    "\n",
    "print(my_car.make) # 'Ford'\n",
    "print(f\"My car is a/n {my_car.make}\") # 'Ford'\n",
    "\n",
    "my_car.drive(10) # 'blue Ford Focus is driving'\n",
    "\n",
    "my_car.fill_up(5) # 'Filling up blue Ford Focus'\n"
   ]
  },
  {
   "cell_type": "markdown",
   "metadata": {},
   "source": [
    "## Modules"
   ]
  },
  {
   "cell_type": "markdown",
   "metadata": {},
   "source": [
    "##### Importing Entire Modules"
   ]
  },
  {
   "cell_type": "code",
   "execution_count": 79,
   "metadata": {},
   "outputs": [
    {
     "name": "stdout",
     "output_type": "stream",
     "text": [
      "<module 'math' from '/home/user/anaconda3/lib/python3.9/lib-dynload/math.cpython-39-x86_64-linux-gnu.so'>\n",
      "3.141592653589793\n"
     ]
    }
   ],
   "source": [
    "# import name_of_module\n",
    "\n",
    "import math\n",
    "print(math)\n",
    "print(math.pi)"
   ]
  },
  {
   "cell_type": "markdown",
   "metadata": {},
   "source": [
    "##### Importing Methods Only"
   ]
  },
  {
   "cell_type": "code",
   "execution_count": 80,
   "metadata": {},
   "outputs": [
    {
     "name": "stdout",
     "output_type": "stream",
     "text": [
      "<function mean at 0x7faf384a80d0>\n",
      "<function median at 0x7faf1a7289d0>\n",
      "32 8\n",
      "4\n",
      "3.5\n"
     ]
    }
   ],
   "source": [
    "# from module_name import class, function, constant, etc.\n",
    "\n",
    "from statistics import mean, median\n",
    "\n",
    "print(mean)\n",
    "print(median)\n",
    "\n",
    "my_list = [2, 4, 7, 3, 4, 7, 2, 3]\n",
    "print(sum(my_list), len(my_list))\n",
    "print(mean(my_list))\n",
    "print(median(my_list))\n"
   ]
  },
  {
   "cell_type": "markdown",
   "metadata": {},
   "source": [
    "##### Using the 'as' Keyword"
   ]
  },
  {
   "cell_type": "code",
   "execution_count": 84,
   "metadata": {},
   "outputs": [
    {
     "data": {
      "text/plain": [
       "8"
      ]
     },
     "execution_count": 84,
     "metadata": {},
     "output_type": "execute_result"
    }
   ],
   "source": [
    "# import module as new_name\n",
    "# from module import function as f\n",
    "\n",
    "from random import randint as ri\n",
    "\n",
    "ri(1, 10)"
   ]
  },
  {
   "cell_type": "code",
   "execution_count": 85,
   "metadata": {},
   "outputs": [
    {
     "data": {
      "text/plain": [
       "68"
      ]
     },
     "execution_count": 85,
     "metadata": {},
     "output_type": "execute_result"
    }
   ],
   "source": [
    "ri(1, 100)"
   ]
  },
  {
   "cell_type": "code",
   "execution_count": 91,
   "metadata": {
    "scrolled": true
   },
   "outputs": [
    {
     "name": "stdout",
     "output_type": "stream",
     "text": [
      "<module 'collections' from '/home/user/anaconda3/lib/python3.9/collections/__init__.py'>\n",
      "Counter({' ': 10, 't': 7, 'o': 5, 's': 5, 'h': 4, 'i': 4, 'l': 3, 'a': 3, 'r': 3, 'c': 3, 'e': 2, 'n': 2, 'g': 1, 'w': 1, 'f': 1, 'u': 1, '!': 1})\n"
     ]
    }
   ],
   "source": [
    "import collections as coll\n",
    "\n",
    "print(coll)\n",
    "\n",
    "test = coll.Counter('hello this is a string with lots of characters to count!')\n",
    "print(test)"
   ]
  },
  {
   "cell_type": "markdown",
   "metadata": {},
   "source": [
    "### Creating your own modeule"
   ]
  },
  {
   "cell_type": "code",
   "execution_count": 105,
   "metadata": {},
   "outputs": [
    {
     "name": "stdout",
     "output_type": "stream",
     "text": [
      "<module 'example_module' from '/home/user/Documents/coding_temple/kekambas-91/week3/day2/example_module.py'>\n"
     ]
    }
   ],
   "source": [
    "# Using VS Code\n",
    "\n",
    "# Open up VS Code from SAME folder...\n",
    "# make a .py file with functions you want to use...\n",
    "\n",
    "import example_module\n",
    "\n",
    "print(example_module)"
   ]
  },
  {
   "cell_type": "code",
   "execution_count": 106,
   "metadata": {
    "scrolled": true
   },
   "outputs": [
    {
     "name": "stdout",
     "output_type": "stream",
     "text": [
      "Hello, Siobhan. How are you doing today?\n"
     ]
    }
   ],
   "source": [
    "example_module.greet('Siobhan')"
   ]
  },
  {
   "cell_type": "code",
   "execution_count": 1,
   "metadata": {},
   "outputs": [
    {
     "name": "stdout",
     "output_type": "stream",
     "text": [
      "The __init__.py file has been run.\n"
     ]
    }
   ],
   "source": [
    "# can also use __init__.py, which makes a folder to hold modules\n",
    "\n",
    "# folder_of_modules/__init__.py\n",
    "\n",
    "# when Python imports a whole folder, it runs the __init__.py file\n",
    "import module_folder\n"
   ]
  },
  {
   "cell_type": "code",
   "execution_count": 2,
   "metadata": {},
   "outputs": [
    {
     "data": {
      "text/plain": [
       "2"
      ]
     },
     "execution_count": 2,
     "metadata": {},
     "output_type": "execute_result"
    }
   ],
   "source": [
    "module_folder.add_nums(1, 1)"
   ]
  }
 ],
 "metadata": {
  "kernelspec": {
   "display_name": "Python 3 (ipykernel)",
   "language": "python",
   "name": "python3"
  },
  "language_info": {
   "codemirror_mode": {
    "name": "ipython",
    "version": 3
   },
   "file_extension": ".py",
   "mimetype": "text/x-python",
   "name": "python",
   "nbconvert_exporter": "python",
   "pygments_lexer": "ipython3",
   "version": "3.9.7"
  }
 },
 "nbformat": 4,
 "nbformat_minor": 2
}
